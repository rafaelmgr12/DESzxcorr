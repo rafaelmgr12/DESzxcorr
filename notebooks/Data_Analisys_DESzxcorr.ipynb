{
 "cells": [
  {
   "cell_type": "code",
   "execution_count": 6,
   "metadata": {},
   "outputs": [],
   "source": [
    "import numpy as np\n",
    "import pandas as pd\n",
    "import matplotlib.pyplot as plt\n",
    "import seaborn as sns\n",
    "from scipy import stats\n",
    "import healpy as hp\n",
    "import os\n",
    "import matplotlib\n",
    "from astropy.io import ascii \n",
    "from astropy.table import Table,QTable\n",
    "import astropy.io.fits as fits\n",
    "import astropy\n",
    "\n",
    "import skymap\n",
    "from skymap.constants import FIGSIZE,SCALE,DPI,DECAM\n",
    "from skymap.utils import get_datadir\n",
    "from skymap import SurveySkymap,SurveyMcBryde,SurveyOrtho\n",
    "from skymap import DESSkymap\n",
    "\n",
    "%matplotlib inline"
   ]
  },
  {
   "cell_type": "code",
   "execution_count": 2,
   "metadata": {},
   "outputs": [],
   "source": [
    "filename = os.listdir(\"../FITS/64\")  \n",
    "l = []"
   ]
  },
  {
   "cell_type": "code",
   "execution_count": 3,
   "metadata": {},
   "outputs": [],
   "source": [
    "for i in range(25):\n",
    "    path = os.path.join(\"../FITS/64\",filename[i])\n",
    "    df = Table.read(path).to_pandas()\n",
    "    l.append(df)"
   ]
  },
  {
   "cell_type": "code",
   "execution_count": 4,
   "metadata": {},
   "outputs": [],
   "source": [
    "des = pd.concat(l, axis=0, ignore_index=True)"
   ]
  },
  {
   "cell_type": "code",
   "execution_count": 5,
   "metadata": {},
   "outputs": [
    {
     "name": "stdout",
     "output_type": "stream",
     "text": [
      "<class 'pandas.core.frame.DataFrame'>\n",
      "RangeIndex: 717133 entries, 0 to 717132\n",
      "Columns: 213 entries, COADD_OBJECT_ID to WAVG_SPREADERR_MODEL_Y\n",
      "dtypes: float64(181), int64(31), object(1)\n",
      "memory usage: 1.1+ GB\n"
     ]
    }
   ],
   "source": [
    "des.info()"
   ]
  },
  {
   "cell_type": "code",
   "execution_count": 6,
   "metadata": {},
   "outputs": [
    {
     "data": {
      "text/plain": [
       "Index(['COADD_OBJECT_ID', 'TILENAME', 'HPIX_32', 'HPIX_64', 'HPIX_1024',\n",
       "       'HPIX_4096', 'HPIX_16384', 'RA', 'DEC', 'ALPHAWIN_J2000',\n",
       "       ...\n",
       "       'SPREADERR_MODEL_G', 'SPREADERR_MODEL_R', 'SPREADERR_MODEL_I',\n",
       "       'SPREADERR_MODEL_Z', 'SPREADERR_MODEL_Y', 'WAVG_SPREADERR_MODEL_G',\n",
       "       'WAVG_SPREADERR_MODEL_R', 'WAVG_SPREADERR_MODEL_I',\n",
       "       'WAVG_SPREADERR_MODEL_Z', 'WAVG_SPREADERR_MODEL_Y'],\n",
       "      dtype='object', length=213)"
      ]
     },
     "execution_count": 6,
     "metadata": {},
     "output_type": "execute_result"
    }
   ],
   "source": [
    "des.columns"
   ]
  },
  {
   "cell_type": "code",
   "execution_count": 7,
   "metadata": {},
   "outputs": [
    {
     "data": {
      "text/html": [
       "<div>\n",
       "<style scoped>\n",
       "    .dataframe tbody tr th:only-of-type {\n",
       "        vertical-align: middle;\n",
       "    }\n",
       "\n",
       "    .dataframe tbody tr th {\n",
       "        vertical-align: top;\n",
       "    }\n",
       "\n",
       "    .dataframe thead th {\n",
       "        text-align: right;\n",
       "    }\n",
       "</style>\n",
       "<table border=\"1\" class=\"dataframe\">\n",
       "  <thead>\n",
       "    <tr style=\"text-align: right;\">\n",
       "      <th></th>\n",
       "      <th>COADD_OBJECT_ID</th>\n",
       "      <th>TILENAME</th>\n",
       "      <th>HPIX_32</th>\n",
       "      <th>HPIX_64</th>\n",
       "      <th>HPIX_1024</th>\n",
       "      <th>HPIX_4096</th>\n",
       "      <th>HPIX_16384</th>\n",
       "      <th>RA</th>\n",
       "      <th>DEC</th>\n",
       "      <th>ALPHAWIN_J2000</th>\n",
       "      <th>...</th>\n",
       "      <th>SPREADERR_MODEL_G</th>\n",
       "      <th>SPREADERR_MODEL_R</th>\n",
       "      <th>SPREADERR_MODEL_I</th>\n",
       "      <th>SPREADERR_MODEL_Z</th>\n",
       "      <th>SPREADERR_MODEL_Y</th>\n",
       "      <th>WAVG_SPREADERR_MODEL_G</th>\n",
       "      <th>WAVG_SPREADERR_MODEL_R</th>\n",
       "      <th>WAVG_SPREADERR_MODEL_I</th>\n",
       "      <th>WAVG_SPREADERR_MODEL_Z</th>\n",
       "      <th>WAVG_SPREADERR_MODEL_Y</th>\n",
       "    </tr>\n",
       "  </thead>\n",
       "  <tbody>\n",
       "    <tr>\n",
       "      <th>0</th>\n",
       "      <td>69357867</td>\n",
       "      <td>b'DES0205+0043'</td>\n",
       "      <td>4453</td>\n",
       "      <td>17815</td>\n",
       "      <td>4560811</td>\n",
       "      <td>72972991</td>\n",
       "      <td>1167567871</td>\n",
       "      <td>31.729194</td>\n",
       "      <td>0.670800</td>\n",
       "      <td>31.729194</td>\n",
       "      <td>...</td>\n",
       "      <td>0.001131</td>\n",
       "      <td>0.000481</td>\n",
       "      <td>0.000561</td>\n",
       "      <td>0.000755</td>\n",
       "      <td>0.002152</td>\n",
       "      <td>0.001190</td>\n",
       "      <td>0.000530</td>\n",
       "      <td>0.000603</td>\n",
       "      <td>0.000835</td>\n",
       "      <td>0.002097</td>\n",
       "    </tr>\n",
       "    <tr>\n",
       "      <th>1</th>\n",
       "      <td>69357995</td>\n",
       "      <td>b'DES0205+0043'</td>\n",
       "      <td>4453</td>\n",
       "      <td>17815</td>\n",
       "      <td>4560811</td>\n",
       "      <td>72972991</td>\n",
       "      <td>1167567871</td>\n",
       "      <td>31.729101</td>\n",
       "      <td>0.669487</td>\n",
       "      <td>31.729101</td>\n",
       "      <td>...</td>\n",
       "      <td>0.002086</td>\n",
       "      <td>0.002295</td>\n",
       "      <td>0.002342</td>\n",
       "      <td>0.002938</td>\n",
       "      <td>0.008235</td>\n",
       "      <td>0.002141</td>\n",
       "      <td>0.002507</td>\n",
       "      <td>0.002439</td>\n",
       "      <td>0.003107</td>\n",
       "      <td>-99.000000</td>\n",
       "    </tr>\n",
       "    <tr>\n",
       "      <th>2</th>\n",
       "      <td>69358568</td>\n",
       "      <td>b'DES0205+0043'</td>\n",
       "      <td>4453</td>\n",
       "      <td>17815</td>\n",
       "      <td>4560811</td>\n",
       "      <td>72972990</td>\n",
       "      <td>1167567854</td>\n",
       "      <td>31.713299</td>\n",
       "      <td>0.657034</td>\n",
       "      <td>31.713299</td>\n",
       "      <td>...</td>\n",
       "      <td>0.005996</td>\n",
       "      <td>0.005506</td>\n",
       "      <td>0.004235</td>\n",
       "      <td>0.005713</td>\n",
       "      <td>0.012186</td>\n",
       "      <td>-99.000000</td>\n",
       "      <td>-99.000000</td>\n",
       "      <td>0.006526</td>\n",
       "      <td>-99.000000</td>\n",
       "      <td>-99.000000</td>\n",
       "    </tr>\n",
       "    <tr>\n",
       "      <th>3</th>\n",
       "      <td>69358593</td>\n",
       "      <td>b'DES0205+0043'</td>\n",
       "      <td>4453</td>\n",
       "      <td>17815</td>\n",
       "      <td>4560811</td>\n",
       "      <td>72972990</td>\n",
       "      <td>1167567847</td>\n",
       "      <td>31.722275</td>\n",
       "      <td>0.656649</td>\n",
       "      <td>31.722275</td>\n",
       "      <td>...</td>\n",
       "      <td>0.014041</td>\n",
       "      <td>0.005587</td>\n",
       "      <td>0.003776</td>\n",
       "      <td>0.003679</td>\n",
       "      <td>0.007913</td>\n",
       "      <td>-99.000000</td>\n",
       "      <td>-99.000000</td>\n",
       "      <td>0.004158</td>\n",
       "      <td>0.004262</td>\n",
       "      <td>-99.000000</td>\n",
       "    </tr>\n",
       "    <tr>\n",
       "      <th>4</th>\n",
       "      <td>69360513</td>\n",
       "      <td>b'DES0205+0043'</td>\n",
       "      <td>4453</td>\n",
       "      <td>17815</td>\n",
       "      <td>4560811</td>\n",
       "      <td>72972978</td>\n",
       "      <td>1167567652</td>\n",
       "      <td>31.721373</td>\n",
       "      <td>0.612551</td>\n",
       "      <td>31.721373</td>\n",
       "      <td>...</td>\n",
       "      <td>0.000945</td>\n",
       "      <td>0.000829</td>\n",
       "      <td>0.001346</td>\n",
       "      <td>0.001558</td>\n",
       "      <td>0.005225</td>\n",
       "      <td>0.001013</td>\n",
       "      <td>0.000902</td>\n",
       "      <td>0.001413</td>\n",
       "      <td>0.001836</td>\n",
       "      <td>-99.000000</td>\n",
       "    </tr>\n",
       "  </tbody>\n",
       "</table>\n",
       "<p>5 rows × 213 columns</p>\n",
       "</div>"
      ],
      "text/plain": [
       "   COADD_OBJECT_ID         TILENAME  HPIX_32  HPIX_64  HPIX_1024  HPIX_4096  \\\n",
       "0         69357867  b'DES0205+0043'     4453    17815    4560811   72972991   \n",
       "1         69357995  b'DES0205+0043'     4453    17815    4560811   72972991   \n",
       "2         69358568  b'DES0205+0043'     4453    17815    4560811   72972990   \n",
       "3         69358593  b'DES0205+0043'     4453    17815    4560811   72972990   \n",
       "4         69360513  b'DES0205+0043'     4453    17815    4560811   72972978   \n",
       "\n",
       "   HPIX_16384         RA       DEC  ALPHAWIN_J2000  ...  SPREADERR_MODEL_G  \\\n",
       "0  1167567871  31.729194  0.670800       31.729194  ...           0.001131   \n",
       "1  1167567871  31.729101  0.669487       31.729101  ...           0.002086   \n",
       "2  1167567854  31.713299  0.657034       31.713299  ...           0.005996   \n",
       "3  1167567847  31.722275  0.656649       31.722275  ...           0.014041   \n",
       "4  1167567652  31.721373  0.612551       31.721373  ...           0.000945   \n",
       "\n",
       "   SPREADERR_MODEL_R  SPREADERR_MODEL_I  SPREADERR_MODEL_Z  SPREADERR_MODEL_Y  \\\n",
       "0           0.000481           0.000561           0.000755           0.002152   \n",
       "1           0.002295           0.002342           0.002938           0.008235   \n",
       "2           0.005506           0.004235           0.005713           0.012186   \n",
       "3           0.005587           0.003776           0.003679           0.007913   \n",
       "4           0.000829           0.001346           0.001558           0.005225   \n",
       "\n",
       "   WAVG_SPREADERR_MODEL_G  WAVG_SPREADERR_MODEL_R  WAVG_SPREADERR_MODEL_I  \\\n",
       "0                0.001190                0.000530                0.000603   \n",
       "1                0.002141                0.002507                0.002439   \n",
       "2              -99.000000              -99.000000                0.006526   \n",
       "3              -99.000000              -99.000000                0.004158   \n",
       "4                0.001013                0.000902                0.001413   \n",
       "\n",
       "   WAVG_SPREADERR_MODEL_Z  WAVG_SPREADERR_MODEL_Y  \n",
       "0                0.000835                0.002097  \n",
       "1                0.003107              -99.000000  \n",
       "2              -99.000000              -99.000000  \n",
       "3                0.004262              -99.000000  \n",
       "4                0.001836              -99.000000  \n",
       "\n",
       "[5 rows x 213 columns]"
      ]
     },
     "execution_count": 7,
     "metadata": {},
     "output_type": "execute_result"
    }
   ],
   "source": [
    "des.head()"
   ]
  },
  {
   "cell_type": "code",
   "execution_count": 8,
   "metadata": {},
   "outputs": [],
   "source": [
    "obj = ['CLASS_STAR_G','CLASS_STAR_R','CLASS_STAR_I','CLASS_STAR_Z','CLASS_STAR_Y']\n",
    "magBand = ['MAG_AUTO_G','MAG_AUTO_R','MAG_AUTO_I','MAG_AUTO_Z','MAG_AUTO_Y']"
   ]
  },
  {
   "cell_type": "code",
   "execution_count": 1,
   "metadata": {},
   "outputs": [
    {
     "ename": "NameError",
     "evalue": "name 'pd' is not defined",
     "output_type": "error",
     "traceback": [
      "\u001b[0;31m---------------------------------------------------------------------------\u001b[0m",
      "\u001b[0;31mNameError\u001b[0m                                 Traceback (most recent call last)",
      "\u001b[0;32m<ipython-input-1-d8d9a3e25e1d>\u001b[0m in \u001b[0;36m<module>\u001b[0;34m\u001b[0m\n\u001b[0;32m----> 1\u001b[0;31m \u001b[0mfilterband\u001b[0m \u001b[0;34m=\u001b[0m \u001b[0mpd\u001b[0m\u001b[0;34m.\u001b[0m\u001b[0mconcat\u001b[0m\u001b[0;34m(\u001b[0m\u001b[0;34m(\u001b[0m\u001b[0mdes\u001b[0m\u001b[0;34m[\u001b[0m\u001b[0mobj\u001b[0m\u001b[0;34m]\u001b[0m\u001b[0;34m,\u001b[0m\u001b[0mdes\u001b[0m\u001b[0;34m[\u001b[0m\u001b[0mmagBand\u001b[0m\u001b[0;34m]\u001b[0m\u001b[0;34m)\u001b[0m\u001b[0;34m,\u001b[0m\u001b[0maxis\u001b[0m \u001b[0;34m=\u001b[0m \u001b[0;36m1\u001b[0m\u001b[0;34m)\u001b[0m\u001b[0;34m\u001b[0m\u001b[0;34m\u001b[0m\u001b[0m\n\u001b[0m",
      "\u001b[0;31mNameError\u001b[0m: name 'pd' is not defined"
     ]
    }
   ],
   "source": [
    "filterband = pd.concat((des[obj],des[magBand]),axis = 1)"
   ]
  },
  {
   "cell_type": "code",
   "execution_count": null,
   "metadata": {},
   "outputs": [],
   "source": [
    "filterband"
   ]
  },
  {
   "cell_type": "code",
   "execution_count": null,
   "metadata": {},
   "outputs": [],
   "source": [
    "plt.plot(des.RA,des.DEC,'ko')"
   ]
  },
  {
   "cell_type": "code",
   "execution_count": 7,
   "metadata": {},
   "outputs": [
    {
     "data": {
      "text/plain": [
       "array([18175, 19199, 19483, 18240, 17900, 17884, 19482, 19481, 18214,\n",
       "       18147, 18200, 17791,    40, 19473, 18129, 18046, 18190, 17873,\n",
       "       19470, 18123, 18183, 17847, 17872, 19152, 17865, 12293, 19209,\n",
       "       19205, 18874, 18870, 18886, 19459, 19460,     8, 19128, 19039,\n",
       "       18804, 19457, 18098, 18034, 18033, 18014,     2, 19117, 19122,\n",
       "       19121, 19053, 18865, 19052, 18073, 18010, 17753, 19113, 18858,\n",
       "       17407, 18024, 18004, 19087, 19096, 18687, 18787, 18066, 17997,\n",
       "       17661, 17805, 17762, 19006, 18849, 18829, 18749, 18786, 18055,\n",
       "       17995, 36860, 19040, 19019, 18683, 18684, 18679, 17398, 17801,\n",
       "       19081, 19002, 18681, 17395, 18051, 18052, 17715, 19076, 19012,\n",
       "       18755, 17649, 17714, 17392, 17968, 17962, 17957, 17642, 17641,\n",
       "       17637, 17621, 17706, 17679, 36835, 36836, 36832, 17669, 36794,\n",
       "       17523, 17672, 17500, 36779, 17514, 36778, 17471, 36756, 36696,\n",
       "       36750, 36670, 36669, 36690, 36604, 36639, 17457, 17438, 36572,\n",
       "       17430, 36566, 36307, 36302, 16763, 17424, 36475, 36476, 36471,\n",
       "       36624, 36218, 21174, 21189, 16751, 36531, 36616, 36280, 22536,\n",
       "       22531, 21192, 17410, 36269, 36290, 36205, 21166, 36203, 21099,\n",
       "       36521, 36441, 36437, 21093, 16744, 36500, 36248, 21160, 16702,\n",
       "       16718, 36258, 36177, 21074, 16784, 21132, 21067, 16773, 16698,\n",
       "       16714, 36490, 36233, 36166, 21065, 16708, 36484, 36404, 36079,\n",
       "       36168, 20728, 16686, 16689, 35825, 36397, 36061, 20721, 36071,\n",
       "       21035, 21019, 36374, 36073, 36054, 21033, 34787, 16654, 36386,\n",
       "       36046, 16508, 35788, 36364, 36043, 36039, 21008, 16501, 35705,\n",
       "       36022, 36038, 35958, 34761, 34677, 20665, 20678, 16500, 16648,\n",
       "       34735, 34740, 34756, 20660, 16493, 36034, 34737, 34670, 20993,\n",
       "       16487, 35671, 36032, 34652, 20631, 16485, 35753, 35673, 36009,\n",
       "       35925, 34725, 16484, 35583, 36003, 34643, 34303, 20648, 16466,\n",
       "       35682, 35325, 36001, 35986, 34721, 34701, 34302, 16480, 35724,\n",
       "       35659, 35916, 35920, 34555, 34636, 16437, 16454, 35637, 35973,\n",
       "       34617, 20618, 20533, 35715, 35896, 35912, 34543, 34547, 34627,\n",
       "       35565, 35549, 34610, 34609, 34626, 20530, 35303, 35884, 35868,\n",
       "       35863, 34603, 34279, 35562, 35557, 35305, 35289, 35861, 34518,\n",
       "       34601, 35624, 35875, 20516, 46719, 35518, 35554, 35602, 35261,\n",
       "       35282, 34578, 34173, 35195, 35852, 34491, 34571, 34572, 35530,\n",
       "       34565, 16393, 35448, 35256, 34479, 34484, 39603, 47455, 46788,\n",
       "       46516, 35521, 35437, 35245, 34226, 34225, 46850, 46494, 46449,\n",
       "       46430, 16384, 35435, 35419, 35264, 34416, 34220, 34155, 47447,\n",
       "       46759, 46747, 46448, 35430, 35417, 35414, 35237, 34218, 34202,\n",
       "       34197, 34154, 34138, 46741, 46698, 46682, 35491, 34468, 34212,\n",
       "       47464, 47459, 47448, 46735, 46692, 35470, 35213, 35169, 34449,\n",
       "       34366, 34046, 34045, 34194, 34146, 39586, 47438, 47437, 46078,\n",
       "       46754, 46753, 46417, 35424, 35127, 33783, 34187, 34183, 34108,\n",
       "       39584, 47415, 46672, 46395, 46396, 35065, 33786, 34121, 46725,\n",
       "       46661, 35064, 34440, 34355, 34100, 39471, 47432, 47427, 46648,\n",
       "       46660, 35378, 35118, 35102, 39474, 35031, 35115, 33771, 34076,\n",
       "       47387, 46619, 46615, 35049, 35034, 34025, 34010, 34009, 34006,\n",
       "       34069, 39450, 39449, 46058, 46053, 46617, 35092, 33764, 34324,\n",
       "       34024, 34088, 46308, 35085, 34061, 39458, 39437, 46014, 46030,\n",
       "       46285, 33660, 34064, 46599, 46267, 46348, 35081, 47365, 46022,\n",
       "       46201, 46346, 35016, 34931, 34307, 47368, 46275, 46276, 34993,\n",
       "       33986, 33906, 34049, 39425, 39089, 45997, 46189, 34919, 33948,\n",
       "       34048, 39083, 34965, 33686, 33626, 39065, 45994, 45910, 45909,\n",
       "       33704, 33960, 45988, 46223, 33533, 33678, 33681, 45822, 46142,\n",
       "       46161, 34871, 33676, 33872, 45900, 45563, 34950, 33274, 33929,\n",
       "       33925, 45878, 45558, 46214, 46137, 46154, 34888, 33519, 33587,\n",
       "       33924, 33843, 38959, 45535, 33842, 33822, 46129, 46145, 33259,\n",
       "       33836, 33831, 33815, 38956, 46119, 34842, 34837, 33497, 45542,\n",
       "       46117, 46105, 46102, 33496, 33215, 33240, 33151, 33828, 45780,\n",
       "       45544, 45528, 46115, 33485, 33406, 33550, 33149, 33810, 45858,\n",
       "       45517, 45438, 46114, 34848, 34823, 33227, 45835, 45499, 45520,\n",
       "       45436, 34825, 33391, 33539, 45688, 45428, 45470, 45425, 33456,\n",
       "       45655, 33188, 33167, 33169, 33164])"
      ]
     },
     "execution_count": 7,
     "metadata": {},
     "output_type": "execute_result"
    }
   ],
   "source": [
    "pix = np.loadtxt('../PIXELS/PixelList.txt').astype(int)\n",
    "pix"
   ]
  },
  {
   "cell_type": "code",
   "execution_count": 8,
   "metadata": {},
   "outputs": [
    {
     "data": {
      "text/plain": [
       "(array([345]),)"
      ]
     },
     "execution_count": 8,
     "metadata": {},
     "output_type": "execute_result"
    }
   ],
   "source": [
    "np.where(pix==46741)"
   ]
  },
  {
   "cell_type": "code",
   "execution_count": null,
   "metadata": {},
   "outputs": [],
   "source": []
  }
 ],
 "metadata": {
  "kernelspec": {
   "display_name": "Python 3",
   "language": "python",
   "name": "python3"
  },
  "language_info": {
   "codemirror_mode": {
    "name": "ipython",
    "version": 3
   },
   "file_extension": ".py",
   "mimetype": "text/x-python",
   "name": "python",
   "nbconvert_exporter": "python",
   "pygments_lexer": "ipython3",
   "version": "3.6.9"
  }
 },
 "nbformat": 4,
 "nbformat_minor": 4
}
