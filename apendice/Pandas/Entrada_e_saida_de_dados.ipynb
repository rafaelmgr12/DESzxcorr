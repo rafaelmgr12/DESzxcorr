{
  "nbformat": 4,
  "nbformat_minor": 0,
  "metadata": {
    "kernelspec": {
      "display_name": "Python 3",
      "language": "python",
      "name": "python3"
    },
    "language_info": {
      "codemirror_mode": {
        "name": "ipython",
        "version": 3
      },
      "file_extension": ".py",
      "mimetype": "text/x-python",
      "name": "python",
      "nbconvert_exporter": "python",
      "pygments_lexer": "ipython3",
      "version": "3.6.9"
    },
    "colab": {
      "name": "Entrada e saída de dados.ipynb",
      "provenance": [],
      "private_outputs": true,
      "collapsed_sections": [],
      "toc_visible": true,
      "include_colab_link": true
    }
  },
  "cells": [
    {
      "cell_type": "markdown",
      "metadata": {
        "id": "view-in-github",
        "colab_type": "text"
      },
      "source": [
        "<a href=\"https://colab.research.google.com/github/rafaelmgr12/DESzxcorr/blob/master/apendice/Pandas/Entrada_e_saida_de_dados.ipynb\" target=\"_parent\"><img src=\"https://colab.research.google.com/assets/colab-badge.svg\" alt=\"Open In Colab\"/></a>"
      ]
    },
    {
      "cell_type": "markdown",
      "metadata": {
        "id": "TypfNS-tai6B"
      },
      "source": [
        "# Entrada e saída de dados\n",
        "\n",
        "Este notebook conterá nossas referências sobre entrada e saída de dados. O pandas pode ler uma variedade de tipos de arquivos usando seus métodos pd.read_. Vejamos os tipos de dados mais comuns:"
      ]
    },
    {
      "cell_type": "markdown",
      "metadata": {
        "id": "i8m9ra_pbrSw"
      },
      "source": [
        "# Setup Collab\n"
      ]
    },
    {
      "cell_type": "code",
      "metadata": {
        "id": "EToCvzoobrCN"
      },
      "source": [
        "try:\n",
        "    import google.colab\n",
        "    IN_COLAB = True\n",
        "except:\n",
        "    IN_COLAB = False\n",
        "if IN_COLAB:\n",
        "    print(\"Baixando Arquivos que serão usadas nesse notebook\")\n",
        "    ! wget https://raw.githubusercontent.com/rafaelmgr12/UNIVESP-AlgeProg2/master/apendice/Pandas/exemplo.csv -O exemplo.csv\n",
        "    ! wget https://raw.githubusercontent.com/rafaelmgr12/UNIVESP-AlgeProg2/master/Exemplo_Excel.xlsx -O Exemplo_Excel.xlsx \n"
      ],
      "execution_count": null,
      "outputs": []
    },
    {
      "cell_type": "code",
      "metadata": {
        "jupyter": {
          "outputs_hidden": true
        },
        "id": "gk24xYpHai6C"
      },
      "source": [
        "import numpy as np\n",
        "import pandas as pd\n",
        "import sys,os"
      ],
      "execution_count": null,
      "outputs": []
    },
    {
      "cell_type": "code",
      "metadata": {
        "id": "v_9YRbIQesPx"
      },
      "source": [
        "# Achando os arquvivos\n",
        "try:\n",
        "    import google.colab\n",
        "    IN_COLAB = True\n",
        "except:\n",
        "    IN_COLAB = False\n",
        "if IN_COLAB:\n",
        "  path_1 = '/content/exemplo.csv'\n",
        "  path_2 = '/content/Exemplo_Excel.xlsx'\n",
        "else:\n",
        "  path_1 = 'exemplo.csv'\n",
        "  path_2 = 'Exemplo_Excel.xlsx'"
      ],
      "execution_count": null,
      "outputs": []
    },
    {
      "cell_type": "markdown",
      "metadata": {
        "id": "t0DYk3yRai6H"
      },
      "source": [
        "## CSV\n",
        "\n",
        "### CSV Input"
      ]
    },
    {
      "cell_type": "code",
      "metadata": {
        "id": "0V6Xs1N_ai6I"
      },
      "source": [
        "df = pd.read_csv(path_1)\n",
        "df"
      ],
      "execution_count": null,
      "outputs": []
    },
    {
      "cell_type": "markdown",
      "metadata": {
        "id": "zjxxjq8tai6R"
      },
      "source": [
        "### Saída de dados tipo CSV "
      ]
    },
    {
      "cell_type": "code",
      "metadata": {
        "jupyter": {
          "outputs_hidden": true
        },
        "id": "nA_QkLhuai6S"
      },
      "source": [
        "df.to_csv(path_1,index=False)"
      ],
      "execution_count": null,
      "outputs": []
    },
    {
      "cell_type": "markdown",
      "metadata": {
        "id": "lb9cWfNWai6X"
      },
      "source": [
        "## Excel\n",
        "\n",
        "Pandas podem ler e escrever arquivos do Excel, tenha em mente, isso só importa dados. Não fórmulas nem imagens, lembrando que imagens ou macros podem bugar o método."
      ]
    },
    {
      "cell_type": "markdown",
      "metadata": {
        "id": "7V0iUTzzai6Y"
      },
      "source": [
        "### Entrada via Excel"
      ]
    },
    {
      "cell_type": "code",
      "metadata": {
        "id": "opVGJ7haai6Z"
      },
      "source": [
        "pd.read_excel(path_2)"
      ],
      "execution_count": null,
      "outputs": []
    },
    {
      "cell_type": "markdown",
      "metadata": {
        "id": "VtYngWvKai6f"
      },
      "source": [
        "### Saída via Excel"
      ]
    },
    {
      "cell_type": "code",
      "metadata": {
        "jupyter": {
          "outputs_hidden": true
        },
        "id": "_65bS0Hiai6g"
      },
      "source": [
        "df.to_excel(path_2)"
      ],
      "execution_count": null,
      "outputs": []
    },
    {
      "cell_type": "markdown",
      "metadata": {
        "id": "1lUeyXPBai6m"
      },
      "source": [
        "## HTML\n",
        "\n",
        "Você pode precisar instalar htmllib5, lxml e BeautifulSoup4. No seu terminal / prompt de comando, execute:\n",
        "\n",
        "    conda install lxml\n",
        "    conda install html5lib\n",
        "    conda install BeautifulSoup4\n",
        "    \n",
        "Em seguida, reinicie o Jupyter Notebook. \n",
        "(Ou use instalação de pip se não estiver usando a Distribuição de Anaconda)\n",
        "Pandas podem ler guias de tabelas fora de html. Por exemplo:"
      ]
    },
    {
      "cell_type": "markdown",
      "metadata": {
        "id": "Papi3N1Jai6m"
      },
      "source": [
        "### Entrada HTML\n",
        "\n",
        "A função Pandas read_html irá ler tabelas fora de uma página da Web e retornar uma lista de objetos DataFrame:"
      ]
    },
    {
      "cell_type": "code",
      "metadata": {
        "jupyter": {
          "outputs_hidden": true
        },
        "id": "r8zBtwFKai6o"
      },
      "source": [
        "df = pd.read_html('http://www.fdic.gov/bank/individual/failed/banklist.html')"
      ],
      "execution_count": null,
      "outputs": []
    },
    {
      "cell_type": "code",
      "metadata": {
        "id": "X2CSGHIXai6t"
      },
      "source": [
        "df[0]"
      ],
      "execution_count": null,
      "outputs": []
    },
    {
      "cell_type": "markdown",
      "metadata": {
        "id": "y_DaOD_jai6x"
      },
      "source": [
        "____"
      ]
    }
  ]
}